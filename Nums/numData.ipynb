{
 "cells": [
  {
   "cell_type": "code",
   "execution_count": 1,
   "metadata": {},
   "outputs": [
    {
     "name": "stderr",
     "output_type": "stream",
     "text": [
      "Using CNTK backend\n"
     ]
    }
   ],
   "source": [
    "import numpy as np\n",
    "from keras.datasets import mnist\n",
    "from keras.preprocessing.image import ImageDataGenerator"
   ]
  },
  {
   "cell_type": "code",
   "execution_count": 2,
   "metadata": {},
   "outputs": [],
   "source": [
    "np.random.seed(42)"
   ]
  },
  {
   "cell_type": "code",
   "execution_count": 3,
   "metadata": {},
   "outputs": [],
   "source": [
    "(x_train, y_train), (x_test, y_test) = mnist.load_data()\n",
    "x_train = np.concatenate((x_train, x_test))\n",
    "y_train = np.concatenate((y_train, y_test))"
   ]
  },
  {
   "cell_type": "code",
   "execution_count": 4,
   "metadata": {},
   "outputs": [],
   "source": [
    "# Преобразование размерности изображений\n",
    "x_train = x_train.reshape(x_train.shape[0], 28, 28, 1)"
   ]
  },
  {
   "cell_type": "code",
   "execution_count": 5,
   "metadata": {},
   "outputs": [],
   "source": [
    "datagen = ImageDataGenerator(rotation_range=20,\n",
    "                             width_shift_range=0.2,\n",
    "                             height_shift_range=0.2)"
   ]
  },
  {
   "cell_type": "code",
   "execution_count": 6,
   "metadata": {},
   "outputs": [
    {
     "name": "stdout",
     "output_type": "stream",
     "text": [
      "100.00%\n"
     ]
    }
   ],
   "source": [
    "dataArr = [[x_train, y_train]]\n",
    "for dataX in range(len(dataArr)):\n",
    "    if (len(dataArr) != 1):\n",
    "        print('{}-й набор:'.format(dataX+1))\n",
    "    data = dataArr[dataX]\n",
    "    i = 0\n",
    "    steps = len(data[0])\n",
    "    for batch in datagen.flow(data[0], y=data[1], batch_size=1, shuffle=False):\n",
    "        data[0] = np.concatenate((data[0], batch[0][0].reshape((1,28,28,1))))\n",
    "        data[1] = np.concatenate((data[1], batch[1][0].reshape((1,))))\n",
    "        i += 1\n",
    "        print('\\r       \\r{:.2f}%'.format(round(i/steps*100, 2)), sep='', end='')\n",
    "        if i >= steps:\n",
    "            print()\n",
    "            break\n",
    "x_train, y_train = dataArr[0][0], dataArr[0][1]"
   ]
  },
  {
   "cell_type": "code",
   "execution_count": 7,
   "metadata": {},
   "outputs": [
    {
     "name": "stdout",
     "output_type": "stream",
     "text": [
      "Размерность x_train: (140000, 28, 28, 1)\n",
      "Размерность y_train: (140000,)\n"
     ]
    }
   ],
   "source": [
    "print('Размерность x_train:', x_train.shape)\n",
    "print('Размерность y_train:', y_train.shape)"
   ]
  },
  {
   "cell_type": "code",
   "execution_count": 8,
   "metadata": {},
   "outputs": [],
   "source": [
    "# Сохраняем данные\n",
    "file = open('DATA/Stored/storedData_MNIST_X2.npz', 'wb')\n",
    "np.savez(file, x_train=x_train, y_train=y_train)\n",
    "file.close()"
   ]
  },
  {
   "cell_type": "code",
   "execution_count": 9,
   "metadata": {},
   "outputs": [
    {
     "name": "stdout",
     "output_type": "stream",
     "text": [
      "['x_train', 'y_train']\n"
     ]
    }
   ],
   "source": [
    "file = open('DATA/Stored/storedData_MNIST_X2.npz', 'rb')\n",
    "DATA = np.load(file)\n",
    "print(DATA.files)\n",
    "file.close()"
   ]
  }
 ],
 "metadata": {
  "kernelspec": {
   "display_name": "Python 3",
   "language": "python",
   "name": "python3"
  },
  "language_info": {
   "codemirror_mode": {
    "name": "ipython",
    "version": 3
   },
   "file_extension": ".py",
   "mimetype": "text/x-python",
   "name": "python",
   "nbconvert_exporter": "python",
   "pygments_lexer": "ipython3",
   "version": "3.6.6"
  }
 },
 "nbformat": 4,
 "nbformat_minor": 2
}
