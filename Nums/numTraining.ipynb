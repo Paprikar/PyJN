{
 "cells": [
  {
   "cell_type": "code",
   "execution_count": 1,
   "metadata": {},
   "outputs": [
    {
     "name": "stderr",
     "output_type": "stream",
     "text": [
      "Using CNTK backend\n"
     ]
    }
   ],
   "source": [
    "import numpy as np\n",
    "from keras.datasets import mnist\n",
    "from keras.models import Sequential\n",
    "from keras.layers import Dense, Dropout, Flatten, Conv2D, MaxPooling2D\n",
    "from keras.callbacks import EarlyStopping\n",
    "from keras.utils import np_utils\n",
    "import matplotlib.pyplot as plt\n",
    "from scipy.misc import toimage\n",
    "%matplotlib inline"
   ]
  },
  {
   "cell_type": "code",
   "execution_count": 2,
   "metadata": {},
   "outputs": [],
   "source": [
    "np.random.seed(42)"
   ]
  },
  {
   "cell_type": "code",
   "execution_count": 3,
   "metadata": {},
   "outputs": [],
   "source": [
    "(x_train, y_train),(x_test, y_test) = mnist.load_data()"
   ]
  },
  {
   "cell_type": "code",
   "execution_count": 4,
   "metadata": {},
   "outputs": [],
   "source": [
    "# Преобразование размерности изображений\n",
    "x_train = x_train.reshape(x_train.shape[0], 28, 28, 1)\n",
    "x_test = x_test.reshape(x_test.shape[0], 28, 28, 1)\n",
    "input_shape = (28, 28, 1)\n",
    "\n",
    "# Нормализация данных\n",
    "x_train = x_train.astype('float32')\n",
    "x_test = x_test.astype('float32')\n",
    "x_train /= 255\n",
    "x_test /= 255"
   ]
  },
  {
   "cell_type": "code",
   "execution_count": 5,
   "metadata": {},
   "outputs": [],
   "source": [
    "y_train = np_utils.to_categorical(y_train, 10)\n",
    "y_test = np_utils.to_categorical(y_test, 10)"
   ]
  },
  {
   "cell_type": "code",
   "execution_count": 6,
   "metadata": {},
   "outputs": [
    {
     "name": "stdout",
     "output_type": "stream",
     "text": [
      "_________________________________________________________________\n",
      "Layer (type)                 Output Shape              Param #   \n",
      "=================================================================\n",
      "conv2d_1 (Conv2D)            (None, 24, 24, 75)        1950      \n",
      "_________________________________________________________________\n",
      "max_pooling2d_1 (MaxPooling2 (None, 12, 12, 75)        0         \n",
      "_________________________________________________________________\n",
      "dropout_1 (Dropout)          (None, 12, 12, 75)        0         \n",
      "_________________________________________________________________\n",
      "conv2d_2 (Conv2D)            (None, 8, 8, 100)         187600    \n",
      "_________________________________________________________________\n",
      "max_pooling2d_2 (MaxPooling2 (None, 4, 4, 100)         0         \n",
      "_________________________________________________________________\n",
      "dropout_2 (Dropout)          (None, 4, 4, 100)         0         \n",
      "_________________________________________________________________\n",
      "flatten_1 (Flatten)          (None, 1600)              0         \n",
      "_________________________________________________________________\n",
      "dense_1 (Dense)              (None, 500)               800500    \n",
      "_________________________________________________________________\n",
      "dropout_3 (Dropout)          (None, 500)               0         \n",
      "_________________________________________________________________\n",
      "dense_2 (Dense)              (None, 10)                5010      \n",
      "=================================================================\n",
      "Total params: 995,060\n",
      "Trainable params: 995,060\n",
      "Non-trainable params: 0\n",
      "_________________________________________________________________\n",
      "None\n"
     ]
    }
   ],
   "source": [
    "model = Sequential()\n",
    "#model.add(Dense(800, input_dim = 784, activation = \"relu\"))\n",
    "#model.add(Dense(10, activation = \"softmax\"))\n",
    "model.add(Conv2D(75, kernel_size=(5, 5), activation='relu', input_shape=input_shape))\n",
    "model.add(MaxPooling2D(pool_size=(2, 2)))\n",
    "model.add(Dropout(0.2))\n",
    "model.add(Conv2D(100, (5, 5), activation='relu'))\n",
    "model.add(MaxPooling2D(pool_size=(2, 2)))\n",
    "model.add(Dropout(0.2))\n",
    "model.add(Flatten())\n",
    "model.add(Dense(500, activation='relu'))\n",
    "model.add(Dropout(0.5))\n",
    "model.add(Dense(10, activation='softmax'))\n",
    "model.compile(loss = \"categorical_crossentropy\", optimizer = \"SGD\", metrics = [\"accuracy\"])\n",
    "\n",
    "print(model.summary())"
   ]
  },
  {
   "cell_type": "code",
   "execution_count": 7,
   "metadata": {},
   "outputs": [],
   "source": [
    "early_stopping_callback = EarlyStopping(monitor='val_acc', patience=2)"
   ]
  },
  {
   "cell_type": "code",
   "execution_count": 8,
   "metadata": {},
   "outputs": [
    {
     "name": "stdout",
     "output_type": "stream",
     "text": [
      "Train on 54000 samples, validate on 6000 samples\n",
      "Epoch 1/50\n",
      " - 77s - loss: 2.0523 - acc: 0.3153 - val_loss: 1.1938 - val_acc: 0.7988\n",
      "Epoch 2/50\n",
      " - 74s - loss: 0.9006 - acc: 0.7169 - val_loss: 0.3646 - val_acc: 0.9098\n",
      "Epoch 3/50\n",
      " - 74s - loss: 0.5264 - acc: 0.8365 - val_loss: 0.2438 - val_acc: 0.9323\n",
      "Epoch 4/50\n",
      " - 74s - loss: 0.4015 - acc: 0.8761 - val_loss: 0.1947 - val_acc: 0.9458\n",
      "Epoch 5/50\n",
      " - 74s - loss: 0.3361 - acc: 0.8968 - val_loss: 0.1634 - val_acc: 0.9523\n",
      "Epoch 6/50\n",
      " - 74s - loss: 0.2918 - acc: 0.9107 - val_loss: 0.1424 - val_acc: 0.9615\n",
      "Epoch 7/50\n",
      " - 75s - loss: 0.2632 - acc: 0.9196 - val_loss: 0.1287 - val_acc: 0.9638\n",
      "Epoch 8/50\n",
      " - 75s - loss: 0.2387 - acc: 0.9276 - val_loss: 0.1184 - val_acc: 0.9667\n",
      "Epoch 9/50\n",
      " - 75s - loss: 0.2218 - acc: 0.9323 - val_loss: 0.1108 - val_acc: 0.9700\n",
      "Epoch 10/50\n",
      " - 74s - loss: 0.2081 - acc: 0.9371 - val_loss: 0.1014 - val_acc: 0.9717\n",
      "Epoch 11/50\n",
      " - 75s - loss: 0.1926 - acc: 0.9412 - val_loss: 0.0962 - val_acc: 0.9728\n",
      "Epoch 12/50\n",
      " - 75s - loss: 0.1834 - acc: 0.9459 - val_loss: 0.0924 - val_acc: 0.9737\n",
      "Epoch 13/50\n",
      " - 75s - loss: 0.1729 - acc: 0.9468 - val_loss: 0.0879 - val_acc: 0.9753\n",
      "Epoch 14/50\n",
      " - 75s - loss: 0.1658 - acc: 0.9491 - val_loss: 0.0843 - val_acc: 0.9762\n",
      "Epoch 15/50\n",
      " - 75s - loss: 0.1580 - acc: 0.9515 - val_loss: 0.0809 - val_acc: 0.9770\n",
      "Epoch 16/50\n",
      " - 75s - loss: 0.1527 - acc: 0.9523 - val_loss: 0.0773 - val_acc: 0.9782\n",
      "Epoch 17/50\n",
      " - 75s - loss: 0.1453 - acc: 0.9556 - val_loss: 0.0754 - val_acc: 0.9778\n",
      "Epoch 18/50\n",
      " - 75s - loss: 0.1430 - acc: 0.9557 - val_loss: 0.0734 - val_acc: 0.9795\n",
      "Epoch 19/50\n",
      " - 75s - loss: 0.1377 - acc: 0.9577 - val_loss: 0.0715 - val_acc: 0.9788\n",
      "Epoch 20/50\n",
      " - 76s - loss: 0.1336 - acc: 0.9596 - val_loss: 0.0694 - val_acc: 0.9798\n",
      "Epoch 21/50\n",
      " - 75s - loss: 0.1286 - acc: 0.9588 - val_loss: 0.0676 - val_acc: 0.9813\n",
      "Epoch 22/50\n",
      " - 75s - loss: 0.1257 - acc: 0.9618 - val_loss: 0.0656 - val_acc: 0.9815\n",
      "Epoch 23/50\n",
      " - 75s - loss: 0.1229 - acc: 0.9631 - val_loss: 0.0648 - val_acc: 0.9815\n",
      "Epoch 24/50\n",
      " - 75s - loss: 0.1207 - acc: 0.9623 - val_loss: 0.0628 - val_acc: 0.9820\n",
      "Epoch 25/50\n",
      " - 75s - loss: 0.1182 - acc: 0.9632 - val_loss: 0.0616 - val_acc: 0.9828\n",
      "Epoch 26/50\n",
      " - 75s - loss: 0.1138 - acc: 0.9638 - val_loss: 0.0604 - val_acc: 0.9830\n",
      "Epoch 27/50\n",
      " - 75s - loss: 0.1135 - acc: 0.9646 - val_loss: 0.0597 - val_acc: 0.9833\n",
      "Epoch 28/50\n",
      " - 75s - loss: 0.1102 - acc: 0.9664 - val_loss: 0.0597 - val_acc: 0.9832\n",
      "Epoch 29/50\n",
      " - 75s - loss: 0.1067 - acc: 0.9669 - val_loss: 0.0577 - val_acc: 0.9832\n"
     ]
    }
   ],
   "source": [
    "history = model.fit(x_train, y_train, batch_size = 256, epochs = 50, verbose = 2, validation_split = 0.1, callbacks=[early_stopping_callback])"
   ]
  },
  {
   "cell_type": "code",
   "execution_count": 9,
   "metadata": {},
   "outputs": [
    {
     "name": "stdout",
     "output_type": "stream",
     "text": [
      "Обучение остановлено на 28 эпохе\n",
      "Точность -  0.982\n"
     ]
    },
    {
     "data": {
      "image/png": "[encoded data removed]",
      "text/plain": [
       "<Figure size 432x288 with 1 Axes>"
      ]
     },
     "metadata": {},
     "output_type": "display_data"
    }
   ],
   "source": [
    "if (early_stopping_callback.stopped_epoch != 0):\n",
    "    print(\"Обучение остановлено на\", early_stopping_callback.stopped_epoch,\"эпохе\")\n",
    "print(\"Точность - \", model.evaluate(x_test, y_test, verbose = 0)[1])\n",
    "\n",
    "plt.plot(history.history['acc'], label='Доля верных ответов на обучающем наборе')\n",
    "plt.plot(history.history['val_acc'], label='Доля верных ответов на проверочном наборе')\n",
    "plt.xlabel('Эпоха обучения')\n",
    "plt.ylabel('Доля верных ответов')\n",
    "plt.legend()\n",
    "plt.show()"
   ]
  },
  {
   "cell_type": "code",
   "execution_count": 10,
   "metadata": {},
   "outputs": [],
   "source": [
    "# Сохраняем модель\n",
    "model_json = model.to_json()\n",
    "json_file = open(\"mnist_model.json\", \"w\")\n",
    "json_file.write(model_json)\n",
    "json_file.close()\n",
    "model.save_weights(\"mnist_model.h5\")"
   ]
  }
 ],
 "metadata": {
  "kernelspec": {
   "display_name": "Python 3",
   "language": "python",
   "name": "python3"
  },
  "language_info": {
   "codemirror_mode": {
    "name": "ipython",
    "version": 3
   },
   "file_extension": ".py",
   "mimetype": "text/x-python",
   "name": "python",
   "nbconvert_exporter": "python",
   "pygments_lexer": "ipython3",
   "version": "3.6.6"
  }
 },
 "nbformat": 4,
 "nbformat_minor": 2
}
