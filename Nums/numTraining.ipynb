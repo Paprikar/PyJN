{
 "cells": [
  {
   "cell_type": "code",
   "execution_count": 1,
   "metadata": {},
   "outputs": [
    {
     "name": "stderr",
     "output_type": "stream",
     "text": [
      "Using CNTK backend\n"
     ]
    }
   ],
   "source": [
    "import numpy as np\n",
    "from keras.models import Sequential\n",
    "from keras.layers import Dense, Dropout, Flatten, Conv2D, MaxPooling2D\n",
    "from keras.callbacks import EarlyStopping\n",
    "from keras.utils import np_utils\n",
    "import matplotlib.pyplot as plt\n",
    "%matplotlib inline"
   ]
  },
  {
   "cell_type": "code",
   "execution_count": 2,
   "metadata": {},
   "outputs": [],
   "source": [
    "np.random.seed(42)"
   ]
  },
  {
   "cell_type": "code",
   "execution_count": 3,
   "metadata": {},
   "outputs": [
    {
     "name": "stdout",
     "output_type": "stream",
     "text": [
      "Total 140000 samples\n"
     ]
    }
   ],
   "source": [
    "file = open('DATA/Stored/storedData_MNIST_X2.npz', 'rb')\n",
    "DATA = np.load(file)\n",
    "x_train, y_train = DATA['x_train'], DATA['y_train']\n",
    "file.close()\n",
    "print('Total {} samples'.format(len(x_train)))"
   ]
  },
  {
   "cell_type": "code",
   "execution_count": 4,
   "metadata": {},
   "outputs": [],
   "source": [
    "# Преобразование размерности изображений\n",
    "x_train = x_train.reshape(x_train.shape[0], 28, 28, 1)\n",
    "input_shape = (28, 28, 1)\n",
    "\n",
    "# Нормализация данных\n",
    "x_train = x_train.astype('float32')\n",
    "x_train /= 255\n",
    "y_train = np_utils.to_categorical(y_train, 10)"
   ]
  },
  {
   "cell_type": "code",
   "execution_count": 5,
   "metadata": {},
   "outputs": [
    {
     "name": "stdout",
     "output_type": "stream",
     "text": [
      "133000 train samples\n",
      "7000 validation samples\n"
     ]
    }
   ],
   "source": [
    "# Разделение выборки на обучающую и валидационную\n",
    "valSplit = 0.05\n",
    "maxSplit = int(len(x_train) // (1/valSplit))\n",
    "valXArr = np.random.choice(len(x_train), maxSplit, replace=False)\n",
    "\n",
    "x_val = np.array([x_train[i] for i in valXArr])\n",
    "y_val = np.array([y_train[i] for i in valXArr])\n",
    "x_train = np.array([x_train[i] for i in range(len(x_train)) if i not in valXArr])\n",
    "y_train = np.array([y_train[i] for i in range(len(y_train)) if i not in valXArr])\n",
    "\n",
    "print('{} train samples\\n{} validation samples'.format(len(x_train), len(x_val)))"
   ]
  },
  {
   "cell_type": "code",
   "execution_count": 6,
   "metadata": {},
   "outputs": [
    {
     "name": "stdout",
     "output_type": "stream",
     "text": [
      "_________________________________________________________________\n",
      "Layer (type)                 Output Shape              Param #   \n",
      "=================================================================\n",
      "conv2d_1 (Conv2D)            (None, 24, 24, 75)        1950      \n",
      "_________________________________________________________________\n",
      "max_pooling2d_1 (MaxPooling2 (None, 12, 12, 75)        0         \n",
      "_________________________________________________________________\n",
      "dropout_1 (Dropout)          (None, 12, 12, 75)        0         \n",
      "_________________________________________________________________\n",
      "conv2d_2 (Conv2D)            (None, 8, 8, 100)         187600    \n",
      "_________________________________________________________________\n",
      "max_pooling2d_2 (MaxPooling2 (None, 4, 4, 100)         0         \n",
      "_________________________________________________________________\n",
      "dropout_2 (Dropout)          (None, 4, 4, 100)         0         \n",
      "_________________________________________________________________\n",
      "flatten_1 (Flatten)          (None, 1600)              0         \n",
      "_________________________________________________________________\n",
      "dense_1 (Dense)              (None, 500)               800500    \n",
      "_________________________________________________________________\n",
      "dropout_3 (Dropout)          (None, 500)               0         \n",
      "_________________________________________________________________\n",
      "dense_2 (Dense)              (None, 10)                5010      \n",
      "=================================================================\n",
      "Total params: 995,060\n",
      "Trainable params: 995,060\n",
      "Non-trainable params: 0\n",
      "_________________________________________________________________\n",
      "None\n"
     ]
    }
   ],
   "source": [
    "model = Sequential()\n",
    "\n",
    "model.add(Conv2D(75, kernel_size=(5, 5), activation='relu', input_shape=input_shape))\n",
    "model.add(MaxPooling2D(pool_size=(2, 2)))\n",
    "model.add(Dropout(0.2))\n",
    "\n",
    "model.add(Conv2D(100, (5, 5), activation='relu'))\n",
    "model.add(MaxPooling2D(pool_size=(2, 2)))\n",
    "model.add(Dropout(0.2))\n",
    "\n",
    "model.add(Flatten())\n",
    "model.add(Dense(500, activation='relu'))\n",
    "model.add(Dropout(0.5))\n",
    "\n",
    "model.add(Dense(10, activation='softmax'))\n",
    "\n",
    "model.compile(loss = \"categorical_crossentropy\", optimizer = \"SGD\", metrics = [\"accuracy\"])\n",
    "print(model.summary())"
   ]
  },
  {
   "cell_type": "code",
   "execution_count": 7,
   "metadata": {},
   "outputs": [],
   "source": [
    "early_stopping_callback = EarlyStopping(monitor='val_acc', patience=5)"
   ]
  },
  {
   "cell_type": "code",
   "execution_count": 8,
   "metadata": {
    "scrolled": false
   },
   "outputs": [
    {
     "name": "stdout",
     "output_type": "stream",
     "text": [
      "Train on 133000 samples, validate on 7000 samples\n",
      "Epoch 1/100\n",
      " - 174s - loss: 1.6070 - acc: 0.4652 - val_loss: 0.8898 - val_acc: 0.7234\n",
      "Epoch 2/100\n",
      " - 178s - loss: 0.7706 - acc: 0.7530 - val_loss: 0.4884 - val_acc: 0.8513\n",
      "Epoch 3/100\n",
      " - 174s - loss: 0.5252 - acc: 0.8340 - val_loss: 0.3485 - val_acc: 0.8976\n",
      "Epoch 4/100\n",
      " - 176s - loss: 0.4171 - acc: 0.8701 - val_loss: 0.2813 - val_acc: 0.9164\n",
      "Epoch 5/100\n",
      " - 172s - loss: 0.3536 - acc: 0.8895 - val_loss: 0.2573 - val_acc: 0.9199\n",
      "Epoch 6/100\n",
      " - 166s - loss: 0.3107 - acc: 0.9033 - val_loss: 0.2302 - val_acc: 0.9289\n",
      "Epoch 7/100\n",
      " - 165s - loss: 0.2790 - acc: 0.9129 - val_loss: 0.1983 - val_acc: 0.9387\n",
      "Epoch 8/100\n",
      " - 166s - loss: 0.2549 - acc: 0.9220 - val_loss: 0.1830 - val_acc: 0.9440\n",
      "Epoch 9/100\n",
      " - 165s - loss: 0.2363 - acc: 0.9272 - val_loss: 0.2272 - val_acc: 0.9279\n",
      "Epoch 10/100\n",
      " - 164s - loss: 0.2210 - acc: 0.9325 - val_loss: 0.2294 - val_acc: 0.9247\n",
      "Epoch 11/100\n",
      " - 165s - loss: 0.2079 - acc: 0.9357 - val_loss: 0.1515 - val_acc: 0.9540\n",
      "Epoch 12/100\n",
      " - 164s - loss: 0.1968 - acc: 0.9389 - val_loss: 0.1431 - val_acc: 0.9554\n",
      "Epoch 13/100\n",
      " - 257s - loss: 0.1850 - acc: 0.9431 - val_loss: 0.1367 - val_acc: 0.9566\n",
      "Epoch 14/100\n",
      " - 166s - loss: 0.1776 - acc: 0.9455 - val_loss: 0.1301 - val_acc: 0.9584\n",
      "Epoch 15/100\n",
      " - 165s - loss: 0.1686 - acc: 0.9482 - val_loss: 0.1316 - val_acc: 0.9580\n",
      "Epoch 16/100\n",
      " - 164s - loss: 0.1605 - acc: 0.9496 - val_loss: 0.1223 - val_acc: 0.9603\n",
      "Epoch 17/100\n",
      " - 164s - loss: 0.1545 - acc: 0.9524 - val_loss: 0.1135 - val_acc: 0.9623\n",
      "Epoch 18/100\n",
      " - 165s - loss: 0.1487 - acc: 0.9541 - val_loss: 0.1136 - val_acc: 0.9636\n",
      "Epoch 19/100\n",
      " - 165s - loss: 0.1449 - acc: 0.9555 - val_loss: 0.1111 - val_acc: 0.9659\n",
      "Epoch 20/100\n",
      " - 164s - loss: 0.1384 - acc: 0.9569 - val_loss: 0.1048 - val_acc: 0.9657\n",
      "Epoch 21/100\n",
      " - 164s - loss: 0.1356 - acc: 0.9583 - val_loss: 0.1061 - val_acc: 0.9664\n",
      "Epoch 22/100\n",
      " - 164s - loss: 0.1296 - acc: 0.9598 - val_loss: 0.0990 - val_acc: 0.9681\n",
      "Epoch 23/100\n",
      " - 164s - loss: 0.1283 - acc: 0.9602 - val_loss: 0.0967 - val_acc: 0.9686\n",
      "Epoch 24/100\n",
      " - 168s - loss: 0.1247 - acc: 0.9615 - val_loss: 0.0958 - val_acc: 0.9689\n",
      "Epoch 25/100\n",
      " - 165s - loss: 0.1201 - acc: 0.9629 - val_loss: 0.0913 - val_acc: 0.9704\n",
      "Epoch 26/100\n",
      " - 165s - loss: 0.1167 - acc: 0.9639 - val_loss: 0.1061 - val_acc: 0.9663\n",
      "Epoch 27/100\n",
      " - 165s - loss: 0.1130 - acc: 0.9650 - val_loss: 0.0941 - val_acc: 0.9710\n",
      "Epoch 28/100\n",
      " - 166s - loss: 0.1112 - acc: 0.9650 - val_loss: 0.0846 - val_acc: 0.9724\n",
      "Epoch 29/100\n",
      " - 164s - loss: 0.1087 - acc: 0.9657 - val_loss: 0.0828 - val_acc: 0.9731\n",
      "Epoch 30/100\n",
      " - 165s - loss: 0.1046 - acc: 0.9673 - val_loss: 0.0897 - val_acc: 0.9706\n",
      "Epoch 31/100\n",
      " - 166s - loss: 0.1044 - acc: 0.9674 - val_loss: 0.0857 - val_acc: 0.9727\n",
      "Epoch 32/100\n",
      " - 163s - loss: 0.1002 - acc: 0.9684 - val_loss: 0.0826 - val_acc: 0.9716\n",
      "Epoch 33/100\n",
      " - 166s - loss: 0.0991 - acc: 0.9687 - val_loss: 0.0764 - val_acc: 0.9754\n",
      "Epoch 34/100\n",
      " - 165s - loss: 0.0964 - acc: 0.9699 - val_loss: 0.0748 - val_acc: 0.9760\n",
      "Epoch 35/100\n",
      " - 167s - loss: 0.0950 - acc: 0.9705 - val_loss: 0.0731 - val_acc: 0.9773\n",
      "Epoch 36/100\n",
      " - 165s - loss: 0.0924 - acc: 0.9706 - val_loss: 0.0806 - val_acc: 0.9756\n",
      "Epoch 37/100\n",
      " - 165s - loss: 0.0910 - acc: 0.9713 - val_loss: 0.0735 - val_acc: 0.9767\n",
      "Epoch 38/100\n",
      " - 166s - loss: 0.0905 - acc: 0.9714 - val_loss: 0.0715 - val_acc: 0.9767\n",
      "Epoch 39/100\n",
      " - 166s - loss: 0.0881 - acc: 0.9726 - val_loss: 0.0958 - val_acc: 0.9700\n",
      "Epoch 40/100\n",
      " - 165s - loss: 0.0868 - acc: 0.9733 - val_loss: 0.0697 - val_acc: 0.9779\n",
      "Epoch 41/100\n",
      " - 169s - loss: 0.0843 - acc: 0.9735 - val_loss: 0.0694 - val_acc: 0.9779\n",
      "Epoch 42/100\n",
      " - 164s - loss: 0.0829 - acc: 0.9737 - val_loss: 0.0962 - val_acc: 0.9707\n",
      "Epoch 43/100\n",
      " - 165s - loss: 0.0832 - acc: 0.9741 - val_loss: 0.0671 - val_acc: 0.9783\n",
      "Epoch 44/100\n",
      " - 169s - loss: 0.0820 - acc: 0.9743 - val_loss: 0.0650 - val_acc: 0.9797\n",
      "Epoch 45/100\n",
      " - 176s - loss: 0.0803 - acc: 0.9752 - val_loss: 0.0661 - val_acc: 0.9793\n",
      "Epoch 46/100\n",
      " - 183s - loss: 0.0786 - acc: 0.9756 - val_loss: 0.0631 - val_acc: 0.9800\n",
      "Epoch 47/100\n",
      " - 182s - loss: 0.0783 - acc: 0.9757 - val_loss: 0.0623 - val_acc: 0.9800\n",
      "Epoch 48/100\n",
      " - 179s - loss: 0.0770 - acc: 0.9760 - val_loss: 0.0617 - val_acc: 0.9793\n",
      "Epoch 49/100\n",
      " - 175s - loss: 0.0752 - acc: 0.9762 - val_loss: 0.0611 - val_acc: 0.9810\n",
      "Epoch 50/100\n",
      " - 188s - loss: 0.0737 - acc: 0.9765 - val_loss: 0.0618 - val_acc: 0.9799\n",
      "Epoch 51/100\n",
      " - 183s - loss: 0.0721 - acc: 0.9771 - val_loss: 0.0596 - val_acc: 0.9807\n",
      "Epoch 52/100\n",
      " - 166s - loss: 0.0721 - acc: 0.9776 - val_loss: 0.0598 - val_acc: 0.9823\n",
      "Epoch 53/100\n",
      " - 174s - loss: 0.0709 - acc: 0.9781 - val_loss: 0.0585 - val_acc: 0.9821\n",
      "Epoch 54/100\n",
      " - 168s - loss: 0.0698 - acc: 0.9782 - val_loss: 0.0634 - val_acc: 0.9791\n",
      "Epoch 55/100\n",
      " - 167s - loss: 0.0676 - acc: 0.9792 - val_loss: 0.0591 - val_acc: 0.9831\n",
      "Epoch 56/100\n",
      " - 166s - loss: 0.0672 - acc: 0.9789 - val_loss: 0.0605 - val_acc: 0.9807\n",
      "Epoch 57/100\n",
      " - 181s - loss: 0.0676 - acc: 0.9789 - val_loss: 0.0576 - val_acc: 0.9821\n",
      "Epoch 58/100\n",
      " - 182s - loss: 0.0662 - acc: 0.9791 - val_loss: 0.0727 - val_acc: 0.9761\n",
      "Epoch 59/100\n",
      " - 175s - loss: 0.0661 - acc: 0.9794 - val_loss: 0.0558 - val_acc: 0.9829\n",
      "Epoch 60/100\n",
      " - 175s - loss: 0.0629 - acc: 0.9800 - val_loss: 0.0541 - val_acc: 0.9834\n",
      "Epoch 61/100\n",
      " - 166s - loss: 0.0633 - acc: 0.9800 - val_loss: 0.0545 - val_acc: 0.9839\n",
      "Epoch 62/100\n",
      " - 166s - loss: 0.0641 - acc: 0.9798 - val_loss: 0.0546 - val_acc: 0.9833\n",
      "Epoch 63/100\n",
      " - 167s - loss: 0.0624 - acc: 0.9803 - val_loss: 0.0524 - val_acc: 0.9844\n",
      "Epoch 64/100\n",
      " - 166s - loss: 0.0620 - acc: 0.9806 - val_loss: 0.0534 - val_acc: 0.9841\n",
      "Epoch 65/100\n",
      " - 163s - loss: 0.0595 - acc: 0.9811 - val_loss: 0.0530 - val_acc: 0.9837\n",
      "Epoch 66/100\n",
      " - 163s - loss: 0.0601 - acc: 0.9811 - val_loss: 0.0539 - val_acc: 0.9820\n",
      "Epoch 67/100\n",
      " - 163s - loss: 0.0593 - acc: 0.9811 - val_loss: 0.0518 - val_acc: 0.9850\n",
      "Epoch 68/100\n",
      " - 163s - loss: 0.0580 - acc: 0.9819 - val_loss: 0.0525 - val_acc: 0.9830\n",
      "Epoch 69/100\n",
      " - 174s - loss: 0.0585 - acc: 0.9812 - val_loss: 0.0554 - val_acc: 0.9824\n",
      "Epoch 70/100\n",
      " - 172s - loss: 0.0574 - acc: 0.9820 - val_loss: 0.0524 - val_acc: 0.9839\n",
      "Epoch 71/100\n",
      " - 170s - loss: 0.0570 - acc: 0.9819 - val_loss: 0.0557 - val_acc: 0.9827\n",
      "Epoch 72/100\n",
      " - 169s - loss: 0.0574 - acc: 0.9820 - val_loss: 0.0506 - val_acc: 0.9841\n"
     ]
    }
   ],
   "source": [
    "history = model.fit(x_train, y_train,\n",
    "                    batch_size = 128,\n",
    "                    epochs = 100,\n",
    "                    verbose = 2,\n",
    "                    validation_data = (x_val, y_val),\n",
    "                    callbacks=[early_stopping_callback])"
   ]
  },
  {
   "cell_type": "code",
   "execution_count": 9,
   "metadata": {},
   "outputs": [
    {
     "name": "stdout",
     "output_type": "stream",
     "text": [
      "Обучение остановлено на 71 эпохе\n",
      "Точность - 0.9841428571428571\n"
     ]
    },
    {
     "data": {
      "image/png": "[encoded data removed]",
      "text/plain": [
       "<Figure size 432x288 with 1 Axes>"
      ]
     },
     "metadata": {
      "needs_background": "light"
     },
     "output_type": "display_data"
    }
   ],
   "source": [
    "if (early_stopping_callback.stopped_epoch != 0):\n",
    "    print(\"Обучение остановлено на\", early_stopping_callback.stopped_epoch,\"эпохе\")\n",
    "print(\"Точность -\", model.evaluate(x_val, y_val, verbose = 0)[1])\n",
    "\n",
    "plt.plot(history.history['acc'], label='Доля верных ответов на обучающем наборе')\n",
    "plt.plot(history.history['val_acc'], label='Доля верных ответов на проверочном наборе')\n",
    "plt.xlabel('Эпоха обучения')\n",
    "plt.ylabel('Доля верных ответов')\n",
    "plt.legend()\n",
    "plt.show()"
   ]
  },
  {
   "cell_type": "code",
   "execution_count": 10,
   "metadata": {},
   "outputs": [],
   "source": [
    "# Сохраняем модель\n",
    "model_json = model.to_json()\n",
    "json_file = open(\"Models/mnist_model.json\", \"w\")\n",
    "json_file.write(model_json)\n",
    "json_file.close()\n",
    "model.save_weights(\"Models/mnist_model.h5\")"
   ]
  }
 ],
 "metadata": {
  "kernelspec": {
   "display_name": "Python 3",
   "language": "python",
   "name": "python3"
  },
  "language_info": {
   "codemirror_mode": {
    "name": "ipython",
    "version": 3
   },
   "file_extension": ".py",
   "mimetype": "text/x-python",
   "name": "python",
   "nbconvert_exporter": "python",
   "pygments_lexer": "ipython3",
   "version": "3.6.6"
  }
 },
 "nbformat": 4,
 "nbformat_minor": 2
}
