{
 "cells": [
  {
   "cell_type": "code",
   "execution_count": null,
   "metadata": {},
   "outputs": [],
   "source": [
    "import os\n",
    "import cv2\n",
    "import numpy as np\n",
    "from PIL import Image as PImage\n",
    "import matplotlib.pyplot as plt\n",
    "np.random.seed(42)"
   ]
  },
  {
   "cell_type": "code",
   "execution_count": null,
   "metadata": {
    "scrolled": false
   },
   "outputs": [],
   "source": [
    "# Генерация данных\n",
    "# !!! Т.к. картинок всего 200, то сохраняем данные в архив .npz\n",
    "imgSrc = 'DATA/images/'\n",
    "\n",
    "def load_img(path):\n",
    "    img = cv2.imread(str(path))\n",
    "    img = cv2.copyMakeBorder(img, 0, 0, 1, 1, cv2.BORDER_REFLECT_101)\n",
    "    img = cv2.cvtColor(img, cv2.COLOR_BGR2RGB)\n",
    "    return img.astype(np.uint8)\n",
    "    \n",
    "paths = np.stack(([i for i in os.listdir(imgSrc)], [i for i in os.listdir(maskSrc)]), axis=1)\n",
    "\n",
    "i = 0\n",
    "steps = len(paths)\n",
    "for path in paths:\n",
    "    # ~~~~~SOME CODE~~~~~\n",
    "    \n",
    "    i += 1\n",
    "    print('\\r       \\r{:.2f}%'.format(round(i/steps*100, 2)), sep='', end='')"
   ]
  }
 ],
 "metadata": {
  "kernelspec": {
   "display_name": "Python 3",
   "language": "python",
   "name": "python3"
  },
  "language_info": {
   "codemirror_mode": {
    "name": "ipython",
    "version": 3
   },
   "file_extension": ".py",
   "mimetype": "text/x-python",
   "name": "python",
   "nbconvert_exporter": "python",
   "pygments_lexer": "ipython3",
   "version": "3.6.6"
  }
 },
 "nbformat": 4,
 "nbformat_minor": 2
}
