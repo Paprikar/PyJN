{
 "cells": [
  {
   "cell_type": "code",
   "execution_count": 1,
   "metadata": {},
   "outputs": [],
   "source": [
    "import os\n",
    "import cv2\n",
    "import numpy as np\n",
    "from PIL import Image as PImage\n",
    "import matplotlib.pyplot as plt\n",
    "#from xml_to_csv import xml_to_csv\n",
    "np.random.seed(42)"
   ]
  },
  {
   "cell_type": "code",
   "execution_count": 24,
   "metadata": {
    "scrolled": false
   },
   "outputs": [
    {
     "name": "stdout",
     "output_type": "stream",
     "text": [
      "raccoon-1.jpg\n"
     ]
    }
   ],
   "source": [
    "# Генерация данных\n",
    "# !!! Т.к. картинок всего 200, то сохраняем данные в архив .npz\n",
    "imgSrc = 'DATA/images/'\n",
    "imgAnn = 'DATA/annotations/'\n",
    "\n",
    "def xml_to_csv(path):\n",
    "    import glob\n",
    "    import pandas as pd\n",
    "    import xml.etree.ElementTree as ET\n",
    "    \n",
    "    xml_list = []\n",
    "    for xml_file in glob.glob(path + '/*.xml'):\n",
    "        tree = ET.parse(xml_file)\n",
    "        root = tree.getroot()\n",
    "        for member in root.findall('object'):\n",
    "            value = (root.find('filename').text,\n",
    "                     int(root.find('size')[0].text),\n",
    "                     int(root.find('size')[1].text),\n",
    "                     member[0].text,\n",
    "                     int(member[4][0].text),\n",
    "                     int(member[4][1].text),\n",
    "                     int(member[4][2].text),\n",
    "                     int(member[4][3].text)\n",
    "                     )\n",
    "            xml_list.append(value)\n",
    "            \n",
    "    column_name = ['filename', 'width', 'height', 'class', 'xmin', 'ymin', 'xmax', 'ymax']\n",
    "    xml_df = pd.DataFrame(xml_list, columns=column_name)\n",
    "    return xml_df.to_dict('records')\n",
    "\n",
    "def load_img(path):\n",
    "    img = cv2.imread(str(path))\n",
    "    img = cv2.copyMakeBorder(img, 0, 0, 1, 1, cv2.BORDER_REFLECT_101)\n",
    "    img = cv2.cvtColor(img, cv2.COLOR_BGR2RGB)\n",
    "    return img.astype(np.uint8)\n",
    "    \n",
    "paths = np.stack(([i for i in os.listdir(imgSrc)], [i for i in os.listdir(imgAnn)]), axis=1)[0]\n",
    "ann = xml_to_csv(imgAnn)\n",
    "print(ann[0]['filename'])\n",
    "\n",
    "#i = 0\n",
    "#steps = len(paths)\n",
    "#for path in paths:\n",
    "    # ~~~~~SOME CODE~~~~~\n",
    "    \n",
    "#    i += 1\n",
    "#    print('\\r       \\r{:.2f}%'.format(round(i/steps*100, 2)), sep='', end='')"
   ]
  }
 ],
 "metadata": {
  "kernelspec": {
   "display_name": "Python 3",
   "language": "python",
   "name": "python3"
  },
  "language_info": {
   "codemirror_mode": {
    "name": "ipython",
    "version": 3
   },
   "file_extension": ".py",
   "mimetype": "text/x-python",
   "name": "python",
   "nbconvert_exporter": "python",
   "pygments_lexer": "ipython3",
   "version": "3.6.6"
  }
 },
 "nbformat": 4,
 "nbformat_minor": 2
}
