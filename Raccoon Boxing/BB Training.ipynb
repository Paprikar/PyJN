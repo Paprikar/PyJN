{
 "cells": [
  {
   "cell_type": "code",
   "execution_count": null,
   "metadata": {},
   "outputs": [],
   "source": [
    "import os\n",
    "import numpy as np\n",
    "from keras.preprocessing import image\n",
    "import matplotlib.pyplot as plt\n",
    "%matplotlib inline\n",
    "np.random.seed(42)\n",
    "from fit_on_batches import fit_on_batches\n",
    "#from  import "
   ]
  },
  {
   "cell_type": "code",
   "execution_count": null,
   "metadata": {},
   "outputs": [],
   "source": [
    "imgPath = 'DATA/images/'\n",
    "print('Total {} samples'.format(len([i for i in os.listdir(imgPath)])))"
   ]
  },
  {
   "cell_type": "code",
   "execution_count": null,
   "metadata": {},
   "outputs": [],
   "source": [
    "# Define metric and loss\n"
   ]
  },
  {
   "cell_type": "code",
   "execution_count": null,
   "metadata": {},
   "outputs": [],
   "source": [
    "model = UNet(DIM, start_ch=8)\n",
    "model.compile(Adam(), dice_loss, [dice_coef])\n",
    "print('Total params - {:,}'.format(model.count_params()))\n",
    "#model.summary()"
   ]
  },
  {
   "cell_type": "code",
   "execution_count": null,
   "metadata": {
    "scrolled": true
   },
   "outputs": [],
   "source": [
    "hystory = fit_on_batches(model=model, x_data=!!!, y_data=!!!, mode='arr', target_img_size=None,\n",
    "                         epochs=100, batch_size=16, data_split=1, validation_split=0.2, patience = None, verbose = 0)"
   ]
  },
  {
   "cell_type": "code",
   "execution_count": null,
   "metadata": {},
   "outputs": [],
   "source": [
    "if (hystory['BE'] != 0):\n",
    "    print(\"Обучение остановлено на\", hystory['BE'], \"эпохе\")\n",
    "\n",
    "for i in list(range(len(hystory)))[2::2]:\n",
    "    key = list(hystory.keys())[i]\n",
    "    plt.plot(hystory[key], label=key)\n",
    "plt.xlabel('Epoch')\n",
    "plt.ylabel('Accuracy')\n",
    "plt.legend()\n",
    "plt.show()"
   ]
  },
  {
   "cell_type": "code",
   "execution_count": null,
   "metadata": {},
   "outputs": [],
   "source": [
    "# Saving model\n",
    "model_json = model.to_json()\n",
    "json_file = open(\"Models/BBModel.json\", \"w\")\n",
    "json_file.write(model_json)\n",
    "json_file.close()\n",
    "model.save_weights(\"Models/BBModel.h5\")"
   ]
  }
 ],
 "metadata": {
  "kernelspec": {
   "display_name": "Python 3",
   "language": "python",
   "name": "python3"
  },
  "language_info": {
   "codemirror_mode": {
    "name": "ipython",
    "version": 3
   },
   "file_extension": ".py",
   "mimetype": "text/x-python",
   "name": "python",
   "nbconvert_exporter": "python",
   "pygments_lexer": "ipython3",
   "version": "3.6.6"
  }
 },
 "nbformat": 4,
 "nbformat_minor": 2
}
