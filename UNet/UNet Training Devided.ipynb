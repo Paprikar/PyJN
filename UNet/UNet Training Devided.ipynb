{
 "cells": [
  {
   "cell_type": "code",
   "execution_count": 1,
   "metadata": {},
   "outputs": [
    {
     "name": "stderr",
     "output_type": "stream",
     "text": [
      "Using CNTK backend\n"
     ]
    }
   ],
   "source": [
    "import os\n",
    "import numpy as np\n",
    "from keras.preprocessing import image\n",
    "from keras.models import model_from_json\n",
    "import matplotlib.pyplot as plt\n",
    "%matplotlib inline\n",
    "np.random.seed(42)\n",
    "from fit_on_batches import fit_on_batches\n",
    "from UNet import UNet"
   ]
  },
  {
   "cell_type": "code",
   "execution_count": 2,
   "metadata": {},
   "outputs": [
    {
     "name": "stdout",
     "output_type": "stream",
     "text": [
      "Total 10176 samples\n"
     ]
    }
   ],
   "source": [
    "def imgInPath(path, size=None):\n",
    "    return image.img_to_array(image.load_img(path, target_size=size))\n",
    "def maskInPath(path, size=None):\n",
    "    return image.img_to_array(image.load_img(path, target_size=size, color_mode = \"grayscale\"))\n",
    "\n",
    "def devide(paths, part, total, mode, size):\n",
    "    func = imgInPath if mode==0 else maskInPath\n",
    "    return np.array([func(i, size)/255 for i in paths[len(paths)//total*(part-1):len(paths)//total*part]])\n",
    "\n",
    "imgPath = 'DATA/Stored/train/'\n",
    "maskPath = 'DATA/Stored/train_masks/'\n",
    "#DIM = (1280, 1920, 3)\n",
    "DIM = (128, 128, 3)\n",
    "\n",
    "imgPaths = [imgPath+i for i in os.listdir(imgPath)]\n",
    "maskPaths = [maskPath+i for i in os.listdir(maskPath)]\n",
    "print('Total {} samples'.format(len(imgPaths)))"
   ]
  },
  {
   "cell_type": "code",
   "execution_count": 3,
   "metadata": {},
   "outputs": [],
   "source": [
    "# Define IoU metric and loss\n",
    "def dice_coef(y_true, y_pred, smooth=1.):\n",
    "    from keras import backend as K\n",
    "    y_true_f = K.batch_flatten(y_true)\n",
    "    y_pred_f = K.batch_flatten(y_pred)\n",
    "    intersection = K.sum(y_true_f * y_pred_f)\n",
    "    return (2. * intersection + smooth) / (K.sum(y_true_f) + K.sum(y_pred_f) + smooth)\n",
    "\n",
    "def dice_loss(y_true, y_pred):\n",
    "    return 1-dice_coef(y_true, y_pred)"
   ]
  },
  {
   "cell_type": "code",
   "execution_count": 4,
   "metadata": {},
   "outputs": [
    {
     "name": "stdout",
     "output_type": "stream",
     "text": [
      "Total params - 485,817\n"
     ]
    }
   ],
   "source": [
    "# Create model\n",
    "model = UNet(DIM, start_ch=8)\n",
    "model.compile('adam', dice_loss, [dice_coef])\n",
    "print('Total params - {:,}'.format(model.count_params()))\n",
    "hystory = {}\n",
    "epochs = 20\n",
    "batch_size = 64"
   ]
  },
  {
   "cell_type": "markdown",
   "metadata": {},
   "source": [
    "### Training | Part 1 of 4"
   ]
  },
  {
   "cell_type": "code",
   "execution_count": null,
   "metadata": {
    "scrolled": true
   },
   "outputs": [],
   "source": [
    "# Training | Part 1 of 4\n",
    "x_train = devide(imgPaths, 1, 4, 0, DIM[:2])\n",
    "y_train = devide(maskPaths, 1, 4, 1, DIM[:2])\n",
    "locHystory = fit_on_batches(model=model, x_data=x_train, y_data=y_train, mode='arr', target_img_size=DIM[:2],\n",
    "                         epochs=epochs, batch_size=batch_size, patience = None, verbose = 0)\n",
    "hystory = {k: (hystory.get(k, 0) if k in set(hystory) else []) + locHystory.get(k, 0) for k in set(hystory) | set(locHystory) if k!='BE'}\n",
    "\n",
    "# Model info\n",
    "for i in list(range(len(hystory)))[(2 if 'BE' in set(hystory) else 1)::2]:\n",
    "    key = list(hystory.keys())[i]\n",
    "    plt.plot(hystory[key], label=key)\n",
    "plt.xlabel('Epoch')\n",
    "plt.ylabel('Accuracy')\n",
    "plt.legend()\n",
    "plt.show()\n",
    "\n",
    "# Saving model\n",
    "model_json = model.to_json()\n",
    "json_file = open(\"Models/UNetModel.json\", \"w\")\n",
    "json_file.write(model_json)\n",
    "json_file.close()\n",
    "model.save_weights(\"Models/UNetModel.h5\")"
   ]
  },
  {
   "cell_type": "markdown",
   "metadata": {},
   "source": [
    "### Training | Part 2 of 4"
   ]
  },
  {
   "cell_type": "code",
   "execution_count": null,
   "metadata": {},
   "outputs": [],
   "source": [
    "# Loading model\n",
    "json_file = open(\"Models/UNetModel.json\", \"r\")\n",
    "loaded_model_json = json_file.read()\n",
    "json_file.close()\n",
    "model = model_from_json(loaded_model_json)\n",
    "model.load_weights(\"Models/UNetModel.h5\")\n",
    "model.compile('adam', dice_loss, [dice_coef])\n",
    "\n",
    "# Training | Part 2 of 4\n",
    "x_train = None\n",
    "y_train = None\n",
    "x_train = devide(imgPaths, 2, 4, 0, DIM[:2])\n",
    "y_train = devide(maskPaths, 2, 4, 1, DIM[:2])\n",
    "locHystory = fit_on_batches(model=model, x_data=x_train, y_data=y_train, mode='arr', target_img_size=DIM[:2],\n",
    "                         epochs=epochs, batch_size=batch_size, patience = None, verbose = 0)\n",
    "hystory = {k: (hystory.get(k, 0) if k in set(hystory) else []) + locHystory.get(k, 0) for k in set(hystory) | set(locHystory) if k!='BE'}\n",
    "\n",
    "# Model info\n",
    "for i in list(range(len(hystory)))[(2 if 'BE' in set(hystory) else 1)::2]:\n",
    "    key = list(hystory.keys())[i]\n",
    "    plt.plot(hystory[key], label=key)\n",
    "plt.xlabel('Epoch')\n",
    "plt.ylabel('Accuracy')\n",
    "plt.legend()\n",
    "plt.show()\n",
    "\n",
    "# Saving model\n",
    "model_json = model.to_json()\n",
    "json_file = open(\"Models/UNetModel.json\", \"w\")\n",
    "json_file.write(model_json)\n",
    "json_file.close()\n",
    "model.save_weights(\"Models/UNetModel.h5\")"
   ]
  },
  {
   "cell_type": "markdown",
   "metadata": {},
   "source": [
    "### Training | Part 3 of 4"
   ]
  },
  {
   "cell_type": "code",
   "execution_count": null,
   "metadata": {},
   "outputs": [],
   "source": [
    "# Loading model\n",
    "json_file = open(\"Models/UNetModel.json\", \"r\")\n",
    "loaded_model_json = json_file.read()\n",
    "json_file.close()\n",
    "model = model_from_json(loaded_model_json)\n",
    "model.load_weights(\"Models/UNetModel.h5\")\n",
    "model.compile('adam', dice_loss, [dice_coef])\n",
    "\n",
    "# Training | Part 3 of 4\n",
    "x_train = None\n",
    "y_train = None\n",
    "x_train = devide(imgPaths, 3, 4, 0, DIM[:2])\n",
    "y_train = devide(maskPaths, 3, 4, 1, DIM[:2])\n",
    "locHystory = fit_on_batches(model=model, x_data=x_train, y_data=y_train, mode='arr', target_img_size=DIM[:2],\n",
    "                         epochs=epochs, batch_size=batch_size, patience = None, verbose = 0)\n",
    "hystory = {k: (hystory.get(k, 0) if k in set(hystory) else []) + locHystory.get(k, 0) for k in set(hystory) | set(locHystory) if k!='BE'}\n",
    "\n",
    "# Model info\n",
    "for i in list(range(len(hystory)))[(2 if 'BE' in set(hystory) else 1)::2]:\n",
    "    key = list(hystory.keys())[i]\n",
    "    plt.plot(hystory[key], label=key)\n",
    "plt.xlabel('Epoch')\n",
    "plt.ylabel('Accuracy')\n",
    "plt.legend()\n",
    "plt.show()\n",
    "\n",
    "# Saving model\n",
    "model_json = model.to_json()\n",
    "json_file = open(\"Models/UNetModel.json\", \"w\")\n",
    "json_file.write(model_json)\n",
    "json_file.close()\n",
    "model.save_weights(\"Models/UNetModel.h5\")"
   ]
  },
  {
   "cell_type": "markdown",
   "metadata": {},
   "source": [
    "### Training | Part 4 of 4"
   ]
  },
  {
   "cell_type": "code",
   "execution_count": 5,
   "metadata": {},
   "outputs": [
    {
     "name": "stdout",
     "output_type": "stream",
     "text": [
      "Train on 2544 samples:\n",
      " - 4718s  | loss: 0.0150 | dice_coef: 0.9850 \n"
     ]
    },
    {
     "data": {
      "image/png": "[encoded data removed]",
      "text/plain": [
       "<Figure size 432x288 with 1 Axes>"
      ]
     },
     "metadata": {
      "needs_background": "light"
     },
     "output_type": "display_data"
    }
   ],
   "source": [
    "# Loading model\n",
    "json_file = open(\"Models/UNetModel.json\", \"r\")\n",
    "loaded_model_json = json_file.read()\n",
    "json_file.close()\n",
    "model = model_from_json(loaded_model_json)\n",
    "model.load_weights(\"Models/UNetModel.h5\")\n",
    "model.compile('adam', dice_loss, [dice_coef])\n",
    "\n",
    "# Training | Part 4 of 4\n",
    "x_train = None\n",
    "y_train = None\n",
    "x_train = devide(imgPaths, 4, 4, 0, DIM[:2])\n",
    "y_train = devide(maskPaths, 4, 4, 1, DIM[:2])\n",
    "locHystory = fit_on_batches(model=model, x_data=x_train, y_data=y_train, mode='arr', target_img_size=DIM[:2],\n",
    "                         epochs=epochs, batch_size=batch_size, patience = None, verbose = 0)\n",
    "hystory = {k: (hystory.get(k, 0) if k in set(hystory) else []) + locHystory.get(k, 0) for k in set(hystory) | set(locHystory) if k!='BE'}\n",
    "\n",
    "# Model info\n",
    "for i in list(range(len(hystory)))[(2 if 'BE' in set(hystory) else 1)::2]:\n",
    "    key = list(hystory.keys())[i]\n",
    "    plt.plot(hystory[key], label=key)\n",
    "plt.xlabel('Epoch')\n",
    "plt.ylabel('Accuracy')\n",
    "plt.legend()\n",
    "plt.show()\n",
    "\n",
    "# Saving model\n",
    "model_json = model.to_json()\n",
    "json_file = open(\"Models/UNetModel.json\", \"w\")\n",
    "json_file.write(model_json)\n",
    "json_file.close()\n",
    "model.save_weights(\"Models/UNetModel.h5\")"
   ]
  }
 ],
 "metadata": {
  "kernelspec": {
   "display_name": "Python 3",
   "language": "python",
   "name": "python3"
  },
  "language_info": {
   "codemirror_mode": {
    "name": "ipython",
    "version": 3
   },
   "file_extension": ".py",
   "mimetype": "text/x-python",
   "name": "python",
   "nbconvert_exporter": "python",
   "pygments_lexer": "ipython3",
   "version": "3.6.6"
  }
 },
 "nbformat": 4,
 "nbformat_minor": 2
}
