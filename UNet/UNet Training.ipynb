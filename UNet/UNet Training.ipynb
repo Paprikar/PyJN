{
 "cells": [
  {
   "cell_type": "code",
   "execution_count": 1,
   "metadata": {},
   "outputs": [
    {
     "name": "stderr",
     "output_type": "stream",
     "text": [
      "Using CNTK backend\n"
     ]
    }
   ],
   "source": [
    "import os\n",
    "import numpy as np\n",
    "from keras.preprocessing import image\n",
    "import matplotlib.pyplot as plt\n",
    "%matplotlib inline\n",
    "np.random.seed(50)\n",
    "from fit_on_batches import fit_on_batches\n",
    "from UNet import UNet"
   ]
  },
  {
   "cell_type": "code",
   "execution_count": 2,
   "metadata": {},
   "outputs": [
    {
     "name": "stdout",
     "output_type": "stream",
     "text": [
      "Total 10176 samples\n"
     ]
    }
   ],
   "source": [
    "imgPath = 'DATA/Stored/train/'\n",
    "maskPath = 'DATA/Stored/train_masks/'\n",
    "#DIM = (1280, 1920, 3)\n",
    "DIM = (128, 128, 3)\n",
    "print('Total {} samples'.format(len([i for i in os.listdir(imgPath)])))"
   ]
  },
  {
   "cell_type": "code",
   "execution_count": 3,
   "metadata": {},
   "outputs": [],
   "source": [
    "# Define IoU metric and loss\n",
    "from keras.losses import binary_crossentropy\n",
    "\n",
    "def dice_coef(y_true, y_pred, smooth=1.):\n",
    "    y_true_f = K.batch_flatten(y_true)\n",
    "    y_pred_f = K.batch_flatten(y_pred)\n",
    "    intersection = K.sum(y_true_f * y_pred_f)\n",
    "    return (2. * intersection + smooth) / (K.sum(y_true_f) + K.sum(y_pred_f) + smooth)\n",
    "\n",
    "def dice_loss(y_true, y_pred):\n",
    "    return 1-dice_coef(y_true, y_pred)"
   ]
  },
  {
   "cell_type": "code",
   "execution_count": 4,
   "metadata": {},
   "outputs": [
    {
     "name": "stdout",
     "output_type": "stream",
     "text": [
      "Total params - 485,817\n"
     ]
    }
   ],
   "source": [
    "model = UNet(DIM, start_ch=8)\n",
    "model.compile(Adam(), dice_loss, [dice_coef])\n",
    "print('Total params - {:,}'.format(model.count_params()))\n",
    "#model.summary()"
   ]
  },
  {
   "cell_type": "code",
   "execution_count": 5,
   "metadata": {
    "scrolled": true
   },
   "outputs": [
    {
     "name": "stdout",
     "output_type": "stream",
     "text": [
      "DATA/Stored/train/880fec285c06_15_GEN.jpg\n",
      "DATA/Stored/train_masks/880fec285c06_15_mask_GEN.jpg\n",
      "Train on 512 samples, validate on 64 samples:\n",
      " - 10585s | loss: 0.0180 | dice_coef: 0.9820 | val_loss: 0.0274 | val_dice_coef: 0.9726\n"
     ]
    }
   ],
   "source": [
    "hystory = fit_on_batches(model=model, x_data=imgPath, y_data=maskPath, mode='mask', target_img_size=DIM[:2],\n",
    "                         epochs=150, batch_size=64, data_split=576/10176, validation_split=64/576, patience = None, verbose = 0)"
   ]
  },
  {
   "cell_type": "code",
   "execution_count": 7,
   "metadata": {},
   "outputs": [
    {
     "data": {
      "image/png": "[encoded data removed]",
      "text/plain": [
       "<Figure size 432x288 with 1 Axes>"
      ]
     },
     "metadata": {
      "needs_background": "light"
     },
     "output_type": "display_data"
    }
   ],
   "source": [
    "if (hystory['BE'] != 0):\n",
    "    print(\"Обучение остановлено на\", hystory['BE'], \"эпохе\")\n",
    "\n",
    "for i in list(range(len(hystory)))[2::2]:\n",
    "    key = list(hystory.keys())[i]\n",
    "    plt.plot(hystory[key], label=key)\n",
    "plt.xlabel('Epoch')\n",
    "plt.ylabel('Accuracy')\n",
    "plt.legend()\n",
    "plt.show()"
   ]
  },
  {
   "cell_type": "code",
   "execution_count": 8,
   "metadata": {},
   "outputs": [],
   "source": [
    "# Saving model\n",
    "model_json = model.to_json()\n",
    "json_file = open(\"Models/UNetModel.json\", \"w\")\n",
    "json_file.write(model_json)\n",
    "json_file.close()\n",
    "model.save_weights(\"Models/UNetModel.h5\")"
   ]
  }
 ],
 "metadata": {
  "kernelspec": {
   "display_name": "Python 3",
   "language": "python",
   "name": "python3"
  },
  "language_info": {
   "codemirror_mode": {
    "name": "ipython",
    "version": 3
   },
   "file_extension": ".py",
   "mimetype": "text/x-python",
   "name": "python",
   "nbconvert_exporter": "python",
   "pygments_lexer": "ipython3",
   "version": "3.6.6"
  }
 },
 "nbformat": 4,
 "nbformat_minor": 2
}
