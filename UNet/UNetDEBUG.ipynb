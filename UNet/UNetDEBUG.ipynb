{
 "cells": [
  {
   "cell_type": "code",
   "execution_count": null,
   "metadata": {},
   "outputs": [],
   "source": [
    "import os\n",
    "import time\n",
    "import numpy as np\n",
    "from keras import backend as K\n",
    "import tensorflow as tf\n",
    "from keras.models import *\n",
    "from keras.layers import *\n",
    "from keras.optimizers import *\n",
    "from keras.preprocessing import image\n",
    "import matplotlib.pyplot as plt\n",
    "%matplotlib inline\n",
    "np.random.seed(100)\n",
    "from fit_on_batches import *"
   ]
  },
  {
   "cell_type": "code",
   "execution_count": null,
   "metadata": {},
   "outputs": [],
   "source": [
    "imgPath = 'DATA/Stored/train/'\n",
    "maskPath = 'DATA/Stored/train_masks/'\n",
    "#DIM = (1280, 1920, 3)\n",
    "DIM = (160, 240, 3)\n",
    "print('Total {} samples'.format(len([i for i in os.listdir(imgPath)])))"
   ]
  },
  {
   "cell_type": "code",
   "execution_count": null,
   "metadata": {},
   "outputs": [],
   "source": [
    "# Define IoU metric and loss\n",
    "from keras.losses import binary_crossentropy\n",
    "\n",
    "def dice_coef(y_true, y_pred, smooth=1.):\n",
    "    y_true_f = K.batch_flatten(y_true)\n",
    "    y_pred_f = K.batch_flatten(y_pred)\n",
    "    intersection = K.sum(y_true_f * y_pred_f)\n",
    "    return (2. * intersection + K.epsilon()) / (K.sum(y_true_f) + K.sum(y_pred_f) + K.epsilon())\n",
    "\n",
    "def dice_loss(y_true, y_pred):\n",
    "    return 1-dice_coef(y_true, y_pred)"
   ]
  },
  {
   "cell_type": "code",
   "execution_count": null,
   "metadata": {},
   "outputs": [],
   "source": [
    "# Build U-Net model\n",
    "\n",
    "def conv_block(m, dim, acti, bn, res, do=0):\n",
    "    n = Conv2D(dim, 3, activation=acti, padding='same')(m)\n",
    "    n = BatchNormalization()(n) if bn else n\n",
    "    n = Dropout(do)(n) if do else n\n",
    "    n = Conv2D(dim, 3, activation=acti, padding='same')(n)\n",
    "    n = BatchNormalization()(n) if bn else n\n",
    "    return Concatenate()([m, n]) if res else n\n",
    "\n",
    "def level_block(m, dim, depth, inc, acti, do, bn, mp, up, res):\n",
    "    if depth > 0:\n",
    "        n = conv_block(m, dim, acti, bn, res)\n",
    "        m = MaxPooling2D()(n) if mp else Conv2D(dim, 3, strides=2, padding='same')(n)\n",
    "        m = level_block(m, int(inc*dim), depth-1, inc, acti, do, bn, mp, up, res)\n",
    "        if up:\n",
    "            m = UpSampling2D()(m)\n",
    "            m = Conv2D(dim, 2, activation=acti, padding='same')(m)\n",
    "        else:\n",
    "            m = Conv2DTranspose(dim, 3, strides=2, activation=acti, padding='same')(m)\n",
    "        n = Concatenate()([n, m])\n",
    "        m = conv_block(n, dim, acti, bn, res)\n",
    "    else:\n",
    "        m = conv_block(m, dim, acti, bn, res, do)\n",
    "    return m\n",
    "\n",
    "def UNet(img_shape, out_ch=1, start_ch=64, depth=4, inc_rate=2., activation='relu', dropout=0.5, batchnorm=False, maxpool=True, upconv=True, residual=False):\n",
    "    \n",
    "    i = Input(shape=img_shape)\n",
    "    o = level_block(i, start_ch, depth, inc_rate, activation, dropout, batchnorm, maxpool, upconv, residual)\n",
    "    o = Conv2D(out_ch, 1, activation='sigmoid')(o)\n",
    "    return Model(inputs=i, outputs=o)\n",
    "\n",
    "model = UNet(DIM, start_ch=32, dropout=0., batchnorm=True, residual=True)\n",
    "model.compile(Adam(), dice_loss, [dice_coef])\n",
    "\n",
    "model2 = UNet(DIM, start_ch=32, dropout=0., batchnorm=True, residual=True)\n",
    "model2.compile(Adam(), dice_loss, [dice_coef])\n",
    "#model2.summary()"
   ]
  },
  {
   "cell_type": "code",
   "execution_count": null,
   "metadata": {},
   "outputs": [],
   "source": [
    "data_split = 10/10176\n",
    "target_img_size = DIM[:2]\n",
    "DATA = np.stack(([imgPath + i for i in os.listdir(imgPath)], [maskPath + i for i in os.listdir(maskPath)]), axis=1)\n",
    "maxDataSplit = int(len(DATA) * data_split)\n",
    "dataXArr = np.random.choice(len(DATA), maxDataSplit, replace=False)\n",
    "xTrain = np.array([DATA[i][0] for i in dataXArr])\n",
    "yTrain = np.array([DATA[i][1] for i in dataXArr])\n",
    "\n",
    "def imgInPath(path):\n",
    "    return image.img_to_array(image.load_img(path, target_size=target_img_size))\n",
    "def maskInPath(path):\n",
    "    return image.img_to_array(image.load_img(path, target_size=target_img_size, color_mode = \"grayscale\"))\n",
    "\n",
    "x_batch = np.array([imgInPath(i) for i in xTrain])\n",
    "y_batch = np.array([maskInPath(i) for i in yTrain])\n",
    "x_batch = x_batch.astype('float32')\n",
    "y_batch = y_batch.astype('float32')\n",
    "x_batch /= 255\n",
    "y_batch /= 255"
   ]
  },
  {
   "cell_type": "code",
   "execution_count": null,
   "metadata": {},
   "outputs": [],
   "source": [
    "hystory = model.fit(x_batch, y_batch, batch_size=1, epochs=10, verbose=2, validation_split=0.)"
   ]
  },
  {
   "cell_type": "code",
   "execution_count": null,
   "metadata": {},
   "outputs": [],
   "source": [
    "fit_on_batches(model=model2, x_data=x_batch, y_data=y_batch,\n",
    "               epochs=10, batch_size=1, data_split=10176/10176, patience = None,\n",
    "               mode='arr', target_img_size=DIM[:2])"
   ]
  },
  {
   "cell_type": "code",
   "execution_count": null,
   "metadata": {},
   "outputs": [],
   "source": [
    "img = image.img_to_array(image.load_img('DATA/Stored/train/00087a6bd4dc_01.jpg', target_size=DIM[:2]))\n",
    "mask = image.img_to_array(image.load_img('DATA/Stored/train_masks/00087a6bd4dc_01_mask.jpg', target_size=DIM[:2], color_mode = \"grayscale\"))\n",
    "img = np.expand_dims(img, axis=0)\n",
    "mask = np.expand_dims(mask, axis=0)\n",
    "pred = model.predict(img)\n",
    "pred2 = model2.predict(img)\n",
    "plt.figure(figsize=(15,15))\n",
    "plt.subplot(141)\n",
    "plt.imshow(image.array_to_img(img[0]))\n",
    "plt.subplot(142)\n",
    "plt.imshow(image.array_to_img(mask[0]))\n",
    "plt.subplot(143)\n",
    "plt.imshow(image.array_to_img(pred[0]))\n",
    "plt.subplot(144)\n",
    "plt.imshow(image.array_to_img(pred2[0]))\n",
    "plt.show()"
   ]
  },
  {
   "cell_type": "code",
   "execution_count": null,
   "metadata": {},
   "outputs": [],
   "source": [
    "# Saving model\n",
    "model_json = model.to_json()\n",
    "json_file = open(\"Models/UNetModel.json\", \"w\")\n",
    "json_file.write(model_json)\n",
    "json_file.close()\n",
    "model.save_weights(\"Models/UNetModel.h5\")"
   ]
  }
 ],
 "metadata": {
  "kernelspec": {
   "display_name": "Python 3",
   "language": "python",
   "name": "python3"
  },
  "language_info": {
   "codemirror_mode": {
    "name": "ipython",
    "version": 3
   },
   "file_extension": ".py",
   "mimetype": "text/x-python",
   "name": "python",
   "nbconvert_exporter": "python",
   "pygments_lexer": "ipython3",
   "version": "3.6.6"
  }
 },
 "nbformat": 4,
 "nbformat_minor": 2
}
