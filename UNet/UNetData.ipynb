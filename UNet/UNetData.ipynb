{
 "cells": [
  {
   "cell_type": "code",
   "execution_count": 1,
   "metadata": {},
   "outputs": [],
   "source": [
    "import os\n",
    "import cv2\n",
    "import numpy as np\n",
    "from PIL import Image as PImage\n",
    "import matplotlib.pyplot as plt\n",
    "np.random.seed(42)"
   ]
  },
  {
   "cell_type": "code",
   "execution_count": 2,
   "metadata": {
    "scrolled": false
   },
   "outputs": [
    {
     "name": "stdout",
     "output_type": "stream",
     "text": [
      "100.00%"
     ]
    }
   ],
   "source": [
    "# Генерация данных\n",
    "imgSrc = 'DATA/CarvanaImageMasking/train/'\n",
    "imgTarget = 'DATA/Stored/train/'\n",
    "maskSrc = 'DATA/CarvanaImageMasking/train_masks/'\n",
    "maskTarget = 'DATA/Stored/train_masks/'\n",
    "\n",
    "def load_img(path):\n",
    "    img = cv2.imread(str(path))\n",
    "    img = cv2.copyMakeBorder(img, 0, 0, 1, 1, cv2.BORDER_REFLECT_101)\n",
    "    img = cv2.cvtColor(img, cv2.COLOR_BGR2RGB)\n",
    "    return img.astype(np.uint8)\n",
    "\n",
    "\n",
    "def load_mask(path):\n",
    "    with open(path, 'rb') as f:\n",
    "        with PImage.open(f) as img:\n",
    "            if '.gif' in str(path):\n",
    "                img = (np.asarray(img) > 0)\n",
    "            else:\n",
    "                img = (np.asarray(img) > 255 * 0.5)\n",
    "            img = cv2.copyMakeBorder(img.astype(np.uint8), 0, 0, 1, 1, cv2.BORDER_REFLECT_101)\n",
    "            return img.astype(np.float32)\n",
    "\n",
    "def random_hue_saturation_value(img,\n",
    "                                hue_shift_limit=(-180, 180),\n",
    "                                sat_shift_limit=(-255, 255),\n",
    "                                val_shift_limit=(-255, 255)):\n",
    "\n",
    "    img = cv2.cvtColor(img, cv2.COLOR_BGR2HSV)\n",
    "    h, s, v = cv2.split(img)\n",
    "    hue_shift = np.random.uniform(hue_shift_limit[0], hue_shift_limit[1])\n",
    "    h = cv2.add(h, hue_shift)\n",
    "    sat_shift = np.random.uniform(sat_shift_limit[0], sat_shift_limit[1])\n",
    "    s = cv2.add(s, sat_shift)\n",
    "    val_shift = np.random.uniform(val_shift_limit[0], val_shift_limit[1])\n",
    "    v = cv2.add(v, val_shift)\n",
    "    img = cv2.merge((h, s, v))\n",
    "    img = cv2.cvtColor(img, cv2.COLOR_HSV2BGR)\n",
    "    return img\n",
    "\n",
    "def grayscale_aug(img, mask):\n",
    "    car_pixels = (cv2.cvtColor(mask, cv2.COLOR_GRAY2RGB) * img).astype(np.uint8)\n",
    "\n",
    "    gray_car = cv2.cvtColor(car_pixels, cv2.COLOR_RGB2GRAY)\n",
    "\n",
    "    rgb_gray_car = cv2.cvtColor(gray_car, cv2.COLOR_GRAY2RGB)\n",
    "\n",
    "    rgb_img = img.copy()\n",
    "    rgb_img[rgb_gray_car > 0] = rgb_gray_car[rgb_gray_car > 0]\n",
    "    return rgb_img\n",
    "\n",
    "def rotate(img, angle):\n",
    "    rows,cols = img.shape[0], img.shape[1]\n",
    "    M = cv2.getRotationMatrix2D((cols/2,rows/2),angle,1)\n",
    "    return cv2.warpAffine(img,M,(cols,rows))\n",
    "\n",
    "def augment(img, mask):\n",
    "    if np.random.random() < 0.5:\n",
    "        img = random_hue_saturation_value(img,\n",
    "                                          hue_shift_limit=(-50, 50),\n",
    "                                          sat_shift_limit=(-5, 5),\n",
    "                                          val_shift_limit=(-15, 15))\n",
    "    else:\n",
    "        img = grayscale_aug(img, mask)\n",
    "    \n",
    "    angle = np.random.uniform(-30, 30)\n",
    "    img, mask = rotate(img, angle), rotate(mask, angle)\n",
    "\n",
    "    return img.copy(), mask.copy()\n",
    "    \n",
    "paths = np.stack(([i for i in os.listdir(imgSrc)], [i for i in os.listdir(maskSrc)]), axis=1)\n",
    "\n",
    "i = 0\n",
    "steps = len(paths)\n",
    "for path in paths:\n",
    "    img, mask = load_img(os.path.join(imgSrc, path[0])), load_mask(os.path.join(maskSrc, path[1]))\n",
    "    plt.imsave(os.path.join(imgTarget, path[0][:-4]+'.jpg'), img)\n",
    "    plt.imsave(os.path.join(maskTarget, path[1][:-4]+'.jpg'), mask, cmap='gray')\n",
    "    \n",
    "    img, mask = augment(img, mask)\n",
    "    plt.imsave(os.path.join(imgTarget, path[0][:-4]+'_GEN.jpg'), img)\n",
    "    plt.imsave(os.path.join(maskTarget, path[1][:-4]+'_GEN.jpg'), mask, cmap='gray')\n",
    "    \n",
    "    i += 1\n",
    "    print('\\r       \\r{:.2f}%'.format(round(i/steps*100, 2)), sep='', end='')"
   ]
  }
 ],
 "metadata": {
  "kernelspec": {
   "display_name": "Python 3",
   "language": "python",
   "name": "python3"
  },
  "language_info": {
   "codemirror_mode": {
    "name": "ipython",
    "version": 3
   },
   "file_extension": ".py",
   "mimetype": "text/x-python",
   "name": "python",
   "nbconvert_exporter": "python",
   "pygments_lexer": "ipython3",
   "version": "3.6.6"
  }
 },
 "nbformat": 4,
 "nbformat_minor": 2
}
