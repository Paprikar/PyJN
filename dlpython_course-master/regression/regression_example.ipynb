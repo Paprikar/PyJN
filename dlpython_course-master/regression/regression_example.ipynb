{
 "cells": [
  {
   "cell_type": "code",
   "execution_count": 1,
   "metadata": {},
   "outputs": [
    {
     "name": "stderr",
     "output_type": "stream",
     "text": [
      "Using CNTK backend\n"
     ]
    }
   ],
   "source": [
    "from keras.datasets import boston_housing\n",
    "from keras.models import Sequential\n",
    "from keras.layers import Dense"
   ]
  },
  {
   "cell_type": "markdown",
   "metadata": {},
   "source": [
    "# Загрузка набора данных"
   ]
  },
  {
   "cell_type": "code",
   "execution_count": 2,
   "metadata": {},
   "outputs": [],
   "source": [
    "(x_train, y_train), (x_test, y_test) = boston_housing.load_data()"
   ]
  },
  {
   "cell_type": "markdown",
   "metadata": {},
   "source": [
    "# Нормализация данных\n",
    "\n",
    "Вычитаем среднее значение и делим на стандартное отклонение"
   ]
  },
  {
   "cell_type": "code",
   "execution_count": 3,
   "metadata": {},
   "outputs": [],
   "source": [
    "# Среднее значение\n",
    "mean = x_train.mean(axis=0)\n",
    "# Стандартное отклонение\n",
    "std = x_train.std(axis=0)\n",
    "x_train -= mean\n",
    "x_train /= std\n",
    "x_test -= mean\n",
    "x_test /= std"
   ]
  },
  {
   "cell_type": "markdown",
   "metadata": {},
   "source": [
    "# Создаем сеть\n",
    "\n",
    "Выходной слой с одним линейным нейроном - для задачи регрессии функция активации не используется.\n",
    "\n",
    "Функция ошибки - среднеквадратичное отклонение.\n",
    "Метрика - среднее абсолютное отклонение."
   ]
  },
  {
   "cell_type": "code",
   "execution_count": 4,
   "metadata": {},
   "outputs": [],
   "source": [
    "model = Sequential()\n",
    "model.add(Dense(128, activation='relu', input_shape=(x_train.shape[1],)))\n",
    "model.add(Dense(1))\n",
    "model.compile(optimizer='RMSprop', loss='mse', metrics=['mae'])"
   ]
  },
  {
   "cell_type": "markdown",
   "metadata": {},
   "source": [
    "# Обучение сети"
   ]
  },
  {
   "cell_type": "code",
   "execution_count": 5,
   "metadata": {},
   "outputs": [
    {
     "name": "stdout",
     "output_type": "stream",
     "text": [
      "Epoch 1/100\n"
     ]
    },
    {
     "name": "stderr",
     "output_type": "stream",
     "text": [
      "D:\\programSoft\\Anaconda3\\envs\\ML\\lib\\site-packages\\cntk\\core.py:361: UserWarning: your data is of type \"float64\", but your input variable (uid \"Input4\") expects \"<class 'numpy.float32'>\". Please convert your data beforehand to speed up training.\n",
      "  (sample.dtype, var.uid, str(var.dtype)))\n",
      "D:\\programSoft\\Anaconda3\\envs\\ML\\lib\\site-packages\\cntk\\core.py:361: UserWarning: your data is of type \"float64\", but your input variable (uid \"Input50\") expects \"<class 'numpy.float32'>\". Please convert your data beforehand to speed up training.\n",
      "  (sample.dtype, var.uid, str(var.dtype)))\n"
     ]
    },
    {
     "name": "stdout",
     "output_type": "stream",
     "text": [
      " - 3s - loss: 335.3404 - mean_absolute_error: 15.4926\n",
      "Epoch 2/100\n",
      " - 2s - loss: 57.7220 - mean_absolute_error: 4.9007\n",
      "Epoch 3/100\n",
      " - 3s - loss: 35.7054 - mean_absolute_error: 3.8508\n",
      "Epoch 4/100\n",
      " - 2s - loss: 27.1085 - mean_absolute_error: 3.3751\n",
      "Epoch 5/100\n",
      " - 2s - loss: 22.8255 - mean_absolute_error: 3.1301\n",
      "Epoch 6/100\n",
      " - 2s - loss: 19.8877 - mean_absolute_error: 2.9239\n",
      "Epoch 7/100\n",
      " - 2s - loss: 18.1020 - mean_absolute_error: 2.7843\n",
      "Epoch 8/100\n",
      " - 3s - loss: 16.7107 - mean_absolute_error: 2.6348\n",
      "Epoch 9/100\n",
      " - 2s - loss: 15.3118 - mean_absolute_error: 2.4984\n",
      "Epoch 10/100\n",
      " - 2s - loss: 13.7657 - mean_absolute_error: 2.4055\n",
      "Epoch 11/100\n",
      " - 2s - loss: 13.3326 - mean_absolute_error: 2.3153\n",
      "Epoch 12/100\n",
      " - 2s - loss: 12.2974 - mean_absolute_error: 2.2309\n",
      "Epoch 13/100\n",
      " - 2s - loss: 12.0048 - mean_absolute_error: 2.2216\n",
      "Epoch 14/100\n",
      " - 2s - loss: 11.7237 - mean_absolute_error: 2.1810\n",
      "Epoch 15/100\n",
      " - 2s - loss: 11.2389 - mean_absolute_error: 2.1681\n",
      "Epoch 16/100\n",
      " - 2s - loss: 10.8053 - mean_absolute_error: 2.1245\n",
      "Epoch 17/100\n",
      " - 2s - loss: 10.4538 - mean_absolute_error: 2.1176\n",
      "Epoch 18/100\n",
      " - 2s - loss: 10.2665 - mean_absolute_error: 2.0745\n",
      "Epoch 19/100\n",
      " - 2s - loss: 10.2251 - mean_absolute_error: 2.0542\n",
      "Epoch 20/100\n",
      " - 2s - loss: 9.7318 - mean_absolute_error: 2.0150\n",
      "Epoch 21/100\n",
      " - 2s - loss: 9.7518 - mean_absolute_error: 2.0533\n",
      "Epoch 22/100\n",
      " - 2s - loss: 9.4631 - mean_absolute_error: 1.9955\n",
      "Epoch 23/100\n",
      " - 2s - loss: 9.3693 - mean_absolute_error: 1.9986\n",
      "Epoch 24/100\n",
      " - 2s - loss: 9.5893 - mean_absolute_error: 2.0158\n",
      "Epoch 25/100\n",
      " - 3s - loss: 9.2641 - mean_absolute_error: 1.9516\n",
      "Epoch 26/100\n",
      " - 3s - loss: 8.9876 - mean_absolute_error: 1.9602\n",
      "Epoch 27/100\n",
      " - 2s - loss: 8.9390 - mean_absolute_error: 1.9489\n",
      "Epoch 28/100\n",
      " - 2s - loss: 8.8042 - mean_absolute_error: 1.9390\n",
      "Epoch 29/100\n",
      " - 2s - loss: 8.7613 - mean_absolute_error: 1.9434\n",
      "Epoch 30/100\n",
      " - 2s - loss: 8.7847 - mean_absolute_error: 1.9171\n",
      "Epoch 31/100\n",
      " - 2s - loss: 8.7853 - mean_absolute_error: 1.9000\n",
      "Epoch 32/100\n",
      " - 2s - loss: 8.4746 - mean_absolute_error: 1.8819\n",
      "Epoch 33/100\n",
      " - 2s - loss: 8.4825 - mean_absolute_error: 1.8998\n",
      "Epoch 34/100\n",
      " - 3s - loss: 8.1663 - mean_absolute_error: 1.8259\n",
      "Epoch 35/100\n",
      " - 2s - loss: 8.1810 - mean_absolute_error: 1.8907\n",
      "Epoch 36/100\n",
      " - 2s - loss: 8.1660 - mean_absolute_error: 1.8640\n",
      "Epoch 37/100\n",
      " - 2s - loss: 8.0557 - mean_absolute_error: 1.8505\n",
      "Epoch 38/100\n",
      " - 2s - loss: 8.1518 - mean_absolute_error: 1.8494\n",
      "Epoch 39/100\n",
      " - 2s - loss: 7.6636 - mean_absolute_error: 1.8050\n",
      "Epoch 40/100\n",
      " - 2s - loss: 7.8465 - mean_absolute_error: 1.8186\n",
      "Epoch 41/100\n",
      " - 2s - loss: 7.7267 - mean_absolute_error: 1.7953\n",
      "Epoch 42/100\n",
      " - 2s - loss: 7.6333 - mean_absolute_error: 1.8009\n",
      "Epoch 43/100\n",
      " - 2s - loss: 7.3223 - mean_absolute_error: 1.7986\n",
      "Epoch 44/100\n",
      " - 2s - loss: 7.5843 - mean_absolute_error: 1.7957\n",
      "Epoch 45/100\n",
      " - 2s - loss: 7.6763 - mean_absolute_error: 1.7890\n",
      "Epoch 46/100\n",
      " - 2s - loss: 7.5495 - mean_absolute_error: 1.7686\n",
      "Epoch 47/100\n",
      " - 2s - loss: 7.3760 - mean_absolute_error: 1.7983\n",
      "Epoch 48/100\n",
      " - 2s - loss: 7.1503 - mean_absolute_error: 1.7580\n",
      "Epoch 49/100\n",
      " - 2s - loss: 7.3372 - mean_absolute_error: 1.7601\n",
      "Epoch 50/100\n",
      " - 2s - loss: 7.0830 - mean_absolute_error: 1.7420\n",
      "Epoch 51/100\n",
      " - 2s - loss: 7.0901 - mean_absolute_error: 1.7473\n",
      "Epoch 52/100\n",
      " - 2s - loss: 7.1941 - mean_absolute_error: 1.7463\n",
      "Epoch 53/100\n",
      " - 2s - loss: 7.1353 - mean_absolute_error: 1.7209\n",
      "Epoch 54/100\n",
      " - 3s - loss: 6.8916 - mean_absolute_error: 1.7079\n",
      "Epoch 55/100\n",
      " - 2s - loss: 6.9049 - mean_absolute_error: 1.7114\n",
      "Epoch 56/100\n",
      " - 2s - loss: 7.0369 - mean_absolute_error: 1.7354\n",
      "Epoch 57/100\n",
      " - 2s - loss: 6.9595 - mean_absolute_error: 1.6830\n",
      "Epoch 58/100\n",
      " - 2s - loss: 6.9470 - mean_absolute_error: 1.7119\n",
      "Epoch 59/100\n",
      " - 3s - loss: 6.9468 - mean_absolute_error: 1.7063\n",
      "Epoch 60/100\n",
      " - 3s - loss: 6.9753 - mean_absolute_error: 1.7086\n",
      "Epoch 61/100\n",
      " - 2s - loss: 6.7799 - mean_absolute_error: 1.6967\n",
      "Epoch 62/100\n",
      " - 2s - loss: 6.6350 - mean_absolute_error: 1.6691\n",
      "Epoch 63/100\n",
      " - 2s - loss: 6.8305 - mean_absolute_error: 1.7012\n",
      "Epoch 64/100\n",
      " - 2s - loss: 6.4310 - mean_absolute_error: 1.6496\n",
      "Epoch 65/100\n",
      " - 2s - loss: 6.7181 - mean_absolute_error: 1.6869\n",
      "Epoch 66/100\n",
      " - 2s - loss: 6.7347 - mean_absolute_error: 1.6883\n",
      "Epoch 67/100\n",
      " - 2s - loss: 6.4940 - mean_absolute_error: 1.6698\n",
      "Epoch 68/100\n",
      " - 2s - loss: 6.6012 - mean_absolute_error: 1.6784\n",
      "Epoch 69/100\n",
      " - 2s - loss: 6.4915 - mean_absolute_error: 1.6658\n",
      "Epoch 70/100\n",
      " - 2s - loss: 6.5223 - mean_absolute_error: 1.6408\n",
      "Epoch 71/100\n",
      " - 2s - loss: 6.3065 - mean_absolute_error: 1.6356\n",
      "Epoch 72/100\n",
      " - 2s - loss: 6.2411 - mean_absolute_error: 1.6206\n",
      "Epoch 73/100\n",
      " - 3s - loss: 6.2965 - mean_absolute_error: 1.6549\n",
      "Epoch 74/100\n",
      " - 3s - loss: 6.3109 - mean_absolute_error: 1.6468\n",
      "Epoch 75/100\n",
      " - 2s - loss: 6.2323 - mean_absolute_error: 1.6151\n",
      "Epoch 76/100\n",
      " - 2s - loss: 6.2296 - mean_absolute_error: 1.6402\n",
      "Epoch 77/100\n",
      " - 2s - loss: 6.2654 - mean_absolute_error: 1.6085\n",
      "Epoch 78/100\n",
      " - 2s - loss: 6.2305 - mean_absolute_error: 1.6096\n",
      "Epoch 79/100\n",
      " - 2s - loss: 6.1279 - mean_absolute_error: 1.6432\n",
      "Epoch 80/100\n",
      " - 2s - loss: 5.9089 - mean_absolute_error: 1.5812\n",
      "Epoch 81/100\n",
      " - 3s - loss: 6.1329 - mean_absolute_error: 1.5849\n",
      "Epoch 82/100\n",
      " - 2s - loss: 6.1689 - mean_absolute_error: 1.6030\n",
      "Epoch 83/100\n",
      " - 2s - loss: 6.0072 - mean_absolute_error: 1.5897\n",
      "Epoch 84/100\n",
      " - 2s - loss: 6.1420 - mean_absolute_error: 1.6014\n",
      "Epoch 85/100\n",
      " - 2s - loss: 6.0481 - mean_absolute_error: 1.5803\n",
      "Epoch 86/100\n",
      " - 2s - loss: 6.0083 - mean_absolute_error: 1.6073\n",
      "Epoch 87/100\n",
      " - 2s - loss: 5.8018 - mean_absolute_error: 1.5948\n",
      "Epoch 88/100\n",
      " - 2s - loss: 5.9225 - mean_absolute_error: 1.5761\n",
      "Epoch 89/100\n",
      " - 3s - loss: 6.0262 - mean_absolute_error: 1.5995\n",
      "Epoch 90/100\n",
      " - 3s - loss: 5.8712 - mean_absolute_error: 1.5707\n",
      "Epoch 91/100\n",
      " - 2s - loss: 6.0093 - mean_absolute_error: 1.5543\n",
      "Epoch 92/100\n",
      " - 2s - loss: 5.9222 - mean_absolute_error: 1.5682\n",
      "Epoch 93/100\n",
      " - 2s - loss: 5.9391 - mean_absolute_error: 1.5574\n",
      "Epoch 94/100\n",
      " - 2s - loss: 5.6456 - mean_absolute_error: 1.5590\n",
      "Epoch 95/100\n",
      " - 2s - loss: 5.9520 - mean_absolute_error: 1.5701\n",
      "Epoch 96/100\n",
      " - 2s - loss: 5.5914 - mean_absolute_error: 1.5265\n",
      "Epoch 97/100\n",
      " - 2s - loss: 5.8117 - mean_absolute_error: 1.5599\n",
      "Epoch 98/100\n",
      " - 2s - loss: 5.7792 - mean_absolute_error: 1.5419\n",
      "Epoch 99/100\n",
      " - 2s - loss: 5.8150 - mean_absolute_error: 1.5726\n",
      "Epoch 100/100\n",
      " - 2s - loss: 5.9003 - mean_absolute_error: 1.5368\n"
     ]
    },
    {
     "data": {
      "text/plain": [
       "<keras.callbacks.History at 0x18bcf5cbba8>"
      ]
     },
     "execution_count": 5,
     "metadata": {},
     "output_type": "execute_result"
    }
   ],
   "source": [
    "model.fit(x_train, y_train, epochs=100, batch_size=1, verbose=2)"
   ]
  },
  {
   "cell_type": "markdown",
   "metadata": {},
   "source": [
    "# Оценка точности работы сети"
   ]
  },
  {
   "cell_type": "code",
   "execution_count": 6,
   "metadata": {},
   "outputs": [
    {
     "name": "stderr",
     "output_type": "stream",
     "text": [
      "D:\\programSoft\\Anaconda3\\envs\\ML\\lib\\site-packages\\cntk\\core.py:361: UserWarning: your data is of type \"float64\", but your input variable (uid \"Input4\") expects \"<class 'numpy.float32'>\". Please convert your data beforehand to speed up training.\n",
      "  (sample.dtype, var.uid, str(var.dtype)))\n",
      "D:\\programSoft\\Anaconda3\\envs\\ML\\lib\\site-packages\\cntk\\core.py:361: UserWarning: your data is of type \"float64\", but your input variable (uid \"Input50\") expects \"<class 'numpy.float32'>\". Please convert your data beforehand to speed up training.\n",
      "  (sample.dtype, var.uid, str(var.dtype)))\n"
     ]
    }
   ],
   "source": [
    "mse, mae = model.evaluate(x_test, y_test, verbose=0)"
   ]
  },
  {
   "cell_type": "code",
   "execution_count": 7,
   "metadata": {},
   "outputs": [
    {
     "name": "stdout",
     "output_type": "stream",
     "text": [
      "Средняя абсолютная ошибка (тысяч долларов): 2.3520994466893814\n"
     ]
    }
   ],
   "source": [
    "print(\"Средняя абсолютная ошибка (тысяч долларов):\", mae)"
   ]
  },
  {
   "cell_type": "markdown",
   "metadata": {},
   "source": [
    "# Использование сети для предсказания цен недвижимости"
   ]
  },
  {
   "cell_type": "code",
   "execution_count": 8,
   "metadata": {},
   "outputs": [
    {
     "name": "stderr",
     "output_type": "stream",
     "text": [
      "D:\\programSoft\\Anaconda3\\envs\\ML\\lib\\site-packages\\cntk\\core.py:361: UserWarning: your data is of type \"float64\", but your input variable (uid \"Input4\") expects \"<class 'numpy.float32'>\". Please convert your data beforehand to speed up training.\n",
      "  (sample.dtype, var.uid, str(var.dtype)))\n"
     ]
    }
   ],
   "source": [
    "pred = model.predict(x_test)"
   ]
  },
  {
   "cell_type": "code",
   "execution_count": 9,
   "metadata": {},
   "outputs": [
    {
     "name": "stdout",
     "output_type": "stream",
     "text": [
      "Предсказанная стоимость: 18.326727 , правильная стоимость: 18.8\n"
     ]
    }
   ],
   "source": [
    "print(\"Предсказанная стоимость:\", pred[1][0], \", правильная стоимость:\", y_test[1])"
   ]
  },
  {
   "cell_type": "code",
   "execution_count": null,
   "metadata": {},
   "outputs": [],
   "source": []
  }
 ],
 "metadata": {
  "kernelspec": {
   "display_name": "Python 3",
   "language": "python",
   "name": "python3"
  },
  "language_info": {
   "codemirror_mode": {
    "name": "ipython",
    "version": 3
   },
   "file_extension": ".py",
   "mimetype": "text/x-python",
   "name": "python",
   "nbconvert_exporter": "python",
   "pygments_lexer": "ipython3",
   "version": "3.6.6"
  }
 },
 "nbformat": 4,
 "nbformat_minor": 2
}
